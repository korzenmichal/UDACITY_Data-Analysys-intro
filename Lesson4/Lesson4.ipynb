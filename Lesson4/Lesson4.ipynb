{
 "cells": [
  {
   "cell_type": "code",
   "execution_count": 3,
   "metadata": {
    "collapsed": false
   },
   "outputs": [
    {
     "data": {
      "text/plain": [
       "'\\nVARIABLE DESCRIPTIONS:\\nsurvival        Survival\\n                (0 = No; 1 = Yes)\\npclass          Passenger Class\\n                (1 = 1st; 2 = 2nd; 3 = 3rd)\\nname            Name\\nsex             Sex\\nage             Age\\nsibsp           Number of Siblings/Spouses Aboard\\nparch           Number of Parents/Children Aboard\\nticket          Ticket Number\\nfare            Passenger Fare\\ncabin           Cabin\\nembarked        Port of Embarkation\\n                (C = Cherbourg; Q = Queenstown; S = Southampton)\\n\\nSPECIAL NOTES:\\nPclass is a proxy for socio-economic status (SES)\\n 1st ~ Upper; 2nd ~ Middle; 3rd ~ Lower\\n\\nAge is in Years; Fractional if Age less than One (1)\\n If the Age is Estimated, it is in the form xx.5\\n\\nWith respect to the family relation variables (i.e. sibsp and parch)\\nsome relations were ignored.  The following are the definitions used\\nfor sibsp and parch.\\n\\nSibling:  Brother, Sister, Stepbrother, or Stepsister of Passenger Aboard Titanic\\nSpouse:   Husband or Wife of Passenger Aboard Titanic (Mistresses and Fiances Ignored)\\nParent:   Mother or Father of Passenger Aboard Titanic\\nChild:    Son, Daughter, Stepson, or Stepdaughter of Passenger Aboard Titanic\\n\\nOther family relatives excluded from this study include cousins,\\nnephews/nieces, aunts/uncles, and in-laws.  Some children travelled\\nonly with a nanny, therefore parch=0 for them.  As well, some\\ntravelled with very close friends or neighbors in a village, however,\\nthe definitions do not support such relations.\\n\\n'"
      ]
     },
     "execution_count": 3,
     "metadata": {},
     "output_type": "execute_result"
    }
   ],
   "source": [
    "'''\n",
    "VARIABLE DESCRIPTIONS:\n",
    "survival        Survival\n",
    "                (0 = No; 1 = Yes)\n",
    "pclass          Passenger Class\n",
    "                (1 = 1st; 2 = 2nd; 3 = 3rd)\n",
    "name            Name\n",
    "sex             Sex\n",
    "age             Age\n",
    "sibsp           Number of Siblings/Spouses Aboard\n",
    "parch           Number of Parents/Children Aboard\n",
    "ticket          Ticket Number\n",
    "fare            Passenger Fare\n",
    "cabin           Cabin\n",
    "embarked        Port of Embarkation\n",
    "                (C = Cherbourg; Q = Queenstown; S = Southampton)\n",
    "\n",
    "SPECIAL NOTES:\n",
    "Pclass is a proxy for socio-economic status (SES)\n",
    " 1st ~ Upper; 2nd ~ Middle; 3rd ~ Lower\n",
    "\n",
    "Age is in Years; Fractional if Age less than One (1)\n",
    " If the Age is Estimated, it is in the form xx.5\n",
    "\n",
    "With respect to the family relation variables (i.e. sibsp and parch)\n",
    "some relations were ignored.  The following are the definitions used\n",
    "for sibsp and parch.\n",
    "\n",
    "Sibling:  Brother, Sister, Stepbrother, or Stepsister of Passenger Aboard Titanic\n",
    "Spouse:   Husband or Wife of Passenger Aboard Titanic (Mistresses and Fiances Ignored)\n",
    "Parent:   Mother or Father of Passenger Aboard Titanic\n",
    "Child:    Son, Daughter, Stepson, or Stepdaughter of Passenger Aboard Titanic\n",
    "\n",
    "Other family relatives excluded from this study include cousins,\n",
    "nephews/nieces, aunts/uncles, and in-laws.  Some children travelled\n",
    "only with a nanny, therefore parch=0 for them.  As well, some\n",
    "travelled with very close friends or neighbors in a village, however,\n",
    "the definitions do not support such relations.\n",
    "\n",
    "'''"
   ]
  },
  {
   "cell_type": "code",
   "execution_count": 4,
   "metadata": {
    "collapsed": false,
    "scrolled": true
   },
   "outputs": [
    {
     "name": "stdout",
     "output_type": "stream",
     "text": [
      "['.ipynb_checkpoints', 'Baysball', 'lahman-csv_2015-01-24.zip', 'Lesson4.ipynb', 'titanic_data.csv', 'titatnic_desc.txt', 'titatnic_desc.txt~']\n"
     ]
    }
   ],
   "source": [
    "from os import listdir\n",
    "print  listdir('.')"
   ]
  },
  {
   "cell_type": "code",
   "execution_count": 5,
   "metadata": {
    "collapsed": false
   },
   "outputs": [
    {
     "name": "stdout",
     "output_type": "stream",
     "text": [
      "Index([u'Survived', u'Pclass', u'Name', u'Sex', u'Age', u'SibSp', u'Parch',\n",
      "       u'Ticket', u'Fare', u'Cabin', u'Embarked'],\n",
      "      dtype='object') \n",
      "\n",
      "Survived      int64\n",
      "Pclass        int64\n",
      "Name         object\n",
      "Sex          object\n",
      "Age         float64\n",
      "SibSp         int64\n",
      "Parch         int64\n",
      "Ticket       object\n",
      "Fare        float64\n",
      "Cabin        object\n",
      "Embarked     object\n",
      "dtype: object\n"
     ]
    }
   ],
   "source": [
    "import pandas as pn\n",
    "titanic = pn.DataFrame.from_csv('titanic_data.csv')\n",
    "\n",
    "print titanic.columns, '\\n'\n",
    "\n",
    "print titanic.dtypes\n",
    "\n",
    "\n",
    "\n"
   ]
  },
  {
   "cell_type": "code",
   "execution_count": 6,
   "metadata": {
    "collapsed": false,
    "scrolled": true
   },
   "outputs": [
    {
     "name": "stdout",
     "output_type": "stream",
     "text": [
      "             Survived  Pclass  \\\n",
      "PassengerId                     \n",
      "1                   0       3   \n",
      "2                   1       1   \n",
      "3                   1       3   \n",
      "4                   1       1   \n",
      "5                   0       3   \n",
      "\n",
      "                                                          Name     Sex  Age  \\\n",
      "PassengerId                                                                   \n",
      "1                                      Braund, Mr. Owen Harris    male   22   \n",
      "2            Cumings, Mrs. John Bradley (Florence Briggs Th...  female   38   \n",
      "3                                       Heikkinen, Miss. Laina  female   26   \n",
      "4                 Futrelle, Mrs. Jacques Heath (Lily May Peel)  female   35   \n",
      "5                                     Allen, Mr. William Henry    male   35   \n",
      "\n",
      "             SibSp  Parch            Ticket     Fare Cabin Embarked  \n",
      "PassengerId                                                          \n",
      "1                1      0         A/5 21171   7.2500   NaN        S  \n",
      "2                1      0          PC 17599  71.2833   C85        C  \n",
      "3                0      0  STON/O2. 3101282   7.9250   NaN        S  \n",
      "4                1      0            113803  53.1000  C123        S  \n",
      "5                0      0            373450   8.0500   NaN        S  \n"
     ]
    }
   ],
   "source": [
    "print titanic.head()"
   ]
  },
  {
   "cell_type": "code",
   "execution_count": 7,
   "metadata": {
    "collapsed": false,
    "scrolled": false
   },
   "outputs": [
    {
     "name": "stdout",
     "output_type": "stream",
     "text": [
      "Int64Index([  1,   2,   3,   4,   5,   6,   7,   8,   9,  10,\n",
      "            ...\n",
      "            882, 883, 884, 885, 886, 887, 888, 889, 890, 891],\n",
      "           dtype='int64', name=u'PassengerId', length=891)\n"
     ]
    }
   ],
   "source": [
    "print titanic.index"
   ]
  },
  {
   "cell_type": "code",
   "execution_count": null,
   "metadata": {
    "collapsed": true
   },
   "outputs": [],
   "source": []
  },
  {
   "cell_type": "code",
   "execution_count": 8,
   "metadata": {
    "collapsed": false
   },
   "outputs": [
    {
     "name": "stdout",
     "output_type": "stream",
     "text": [
      "<bound method DataFrame.describe of              Survived  Pclass  \\\n",
      "PassengerId                     \n",
      "1                   0       3   \n",
      "2                   1       1   \n",
      "3                   1       3   \n",
      "4                   1       1   \n",
      "5                   0       3   \n",
      "6                   0       3   \n",
      "7                   0       1   \n",
      "8                   0       3   \n",
      "9                   1       3   \n",
      "10                  1       2   \n",
      "11                  1       3   \n",
      "12                  1       1   \n",
      "13                  0       3   \n",
      "14                  0       3   \n",
      "15                  0       3   \n",
      "16                  1       2   \n",
      "17                  0       3   \n",
      "18                  1       2   \n",
      "19                  0       3   \n",
      "20                  1       3   \n",
      "21                  0       2   \n",
      "22                  1       2   \n",
      "23                  1       3   \n",
      "24                  1       1   \n",
      "25                  0       3   \n",
      "26                  1       3   \n",
      "27                  0       3   \n",
      "28                  0       1   \n",
      "29                  1       3   \n",
      "30                  0       3   \n",
      "...               ...     ...   \n",
      "862                 0       2   \n",
      "863                 1       1   \n",
      "864                 0       3   \n",
      "865                 0       2   \n",
      "866                 1       2   \n",
      "867                 1       2   \n",
      "868                 0       1   \n",
      "869                 0       3   \n",
      "870                 1       3   \n",
      "871                 0       3   \n",
      "872                 1       1   \n",
      "873                 0       1   \n",
      "874                 0       3   \n",
      "875                 1       2   \n",
      "876                 1       3   \n",
      "877                 0       3   \n",
      "878                 0       3   \n",
      "879                 0       3   \n",
      "880                 1       1   \n",
      "881                 1       2   \n",
      "882                 0       3   \n",
      "883                 0       3   \n",
      "884                 0       2   \n",
      "885                 0       3   \n",
      "886                 0       3   \n",
      "887                 0       2   \n",
      "888                 1       1   \n",
      "889                 0       3   \n",
      "890                 1       1   \n",
      "891                 0       3   \n",
      "\n",
      "                                                          Name     Sex  Age  \\\n",
      "PassengerId                                                                   \n",
      "1                                      Braund, Mr. Owen Harris    male   22   \n",
      "2            Cumings, Mrs. John Bradley (Florence Briggs Th...  female   38   \n",
      "3                                       Heikkinen, Miss. Laina  female   26   \n",
      "4                 Futrelle, Mrs. Jacques Heath (Lily May Peel)  female   35   \n",
      "5                                     Allen, Mr. William Henry    male   35   \n",
      "6                                             Moran, Mr. James    male  NaN   \n",
      "7                                      McCarthy, Mr. Timothy J    male   54   \n",
      "8                               Palsson, Master. Gosta Leonard    male    2   \n",
      "9            Johnson, Mrs. Oscar W (Elisabeth Vilhelmina Berg)  female   27   \n",
      "10                         Nasser, Mrs. Nicholas (Adele Achem)  female   14   \n",
      "11                             Sandstrom, Miss. Marguerite Rut  female    4   \n",
      "12                                    Bonnell, Miss. Elizabeth  female   58   \n",
      "13                              Saundercock, Mr. William Henry    male   20   \n",
      "14                                 Andersson, Mr. Anders Johan    male   39   \n",
      "15                        Vestrom, Miss. Hulda Amanda Adolfina  female   14   \n",
      "16                            Hewlett, Mrs. (Mary D Kingcome)   female   55   \n",
      "17                                        Rice, Master. Eugene    male    2   \n",
      "18                                Williams, Mr. Charles Eugene    male  NaN   \n",
      "19           Vander Planke, Mrs. Julius (Emelia Maria Vande...  female   31   \n",
      "20                                     Masselmani, Mrs. Fatima  female  NaN   \n",
      "21                                        Fynney, Mr. Joseph J    male   35   \n",
      "22                                       Beesley, Mr. Lawrence    male   34   \n",
      "23                                 McGowan, Miss. Anna \"Annie\"  female   15   \n",
      "24                                Sloper, Mr. William Thompson    male   28   \n",
      "25                               Palsson, Miss. Torborg Danira  female    8   \n",
      "26           Asplund, Mrs. Carl Oscar (Selma Augusta Emilia...  female   38   \n",
      "27                                     Emir, Mr. Farred Chehab    male  NaN   \n",
      "28                              Fortune, Mr. Charles Alexander    male   19   \n",
      "29                               O'Dwyer, Miss. Ellen \"Nellie\"  female  NaN   \n",
      "30                                         Todoroff, Mr. Lalio    male  NaN   \n",
      "...                                                        ...     ...  ...   \n",
      "862                                Giles, Mr. Frederick Edward    male   21   \n",
      "863          Swift, Mrs. Frederick Joel (Margaret Welles Ba...  female   48   \n",
      "864                          Sage, Miss. Dorothy Edith \"Dolly\"  female  NaN   \n",
      "865                                     Gill, Mr. John William    male   24   \n",
      "866                                   Bystrom, Mrs. (Karolina)  female   42   \n",
      "867                               Duran y More, Miss. Asuncion  female   27   \n",
      "868                       Roebling, Mr. Washington Augustus II    male   31   \n",
      "869                                van Melkebeke, Mr. Philemon    male  NaN   \n",
      "870                            Johnson, Master. Harold Theodor    male    4   \n",
      "871                                          Balkic, Mr. Cerin    male   26   \n",
      "872           Beckwith, Mrs. Richard Leonard (Sallie Monypeny)  female   47   \n",
      "873                                   Carlsson, Mr. Frans Olof    male   33   \n",
      "874                                Vander Cruyssen, Mr. Victor    male   47   \n",
      "875                      Abelson, Mrs. Samuel (Hannah Wizosky)  female   28   \n",
      "876                           Najib, Miss. Adele Kiamie \"Jane\"  female   15   \n",
      "877                              Gustafsson, Mr. Alfred Ossian    male   20   \n",
      "878                                       Petroff, Mr. Nedelio    male   19   \n",
      "879                                         Laleff, Mr. Kristo    male  NaN   \n",
      "880              Potter, Mrs. Thomas Jr (Lily Alexenia Wilson)  female   56   \n",
      "881               Shelley, Mrs. William (Imanita Parrish Hall)  female   25   \n",
      "882                                         Markun, Mr. Johann    male   33   \n",
      "883                               Dahlberg, Miss. Gerda Ulrika  female   22   \n",
      "884                              Banfield, Mr. Frederick James    male   28   \n",
      "885                                     Sutehall, Mr. Henry Jr    male   25   \n",
      "886                       Rice, Mrs. William (Margaret Norton)  female   39   \n",
      "887                                      Montvila, Rev. Juozas    male   27   \n",
      "888                               Graham, Miss. Margaret Edith  female   19   \n",
      "889                   Johnston, Miss. Catherine Helen \"Carrie\"  female  NaN   \n",
      "890                                      Behr, Mr. Karl Howell    male   26   \n",
      "891                                        Dooley, Mr. Patrick    male   32   \n",
      "\n",
      "             SibSp  Parch            Ticket      Fare        Cabin Embarked  \n",
      "PassengerId                                                                  \n",
      "1                1      0         A/5 21171    7.2500          NaN        S  \n",
      "2                1      0          PC 17599   71.2833          C85        C  \n",
      "3                0      0  STON/O2. 3101282    7.9250          NaN        S  \n",
      "4                1      0            113803   53.1000         C123        S  \n",
      "5                0      0            373450    8.0500          NaN        S  \n",
      "6                0      0            330877    8.4583          NaN        Q  \n",
      "7                0      0             17463   51.8625          E46        S  \n",
      "8                3      1            349909   21.0750          NaN        S  \n",
      "9                0      2            347742   11.1333          NaN        S  \n",
      "10               1      0            237736   30.0708          NaN        C  \n",
      "11               1      1           PP 9549   16.7000           G6        S  \n",
      "12               0      0            113783   26.5500         C103        S  \n",
      "13               0      0         A/5. 2151    8.0500          NaN        S  \n",
      "14               1      5            347082   31.2750          NaN        S  \n",
      "15               0      0            350406    7.8542          NaN        S  \n",
      "16               0      0            248706   16.0000          NaN        S  \n",
      "17               4      1            382652   29.1250          NaN        Q  \n",
      "18               0      0            244373   13.0000          NaN        S  \n",
      "19               1      0            345763   18.0000          NaN        S  \n",
      "20               0      0              2649    7.2250          NaN        C  \n",
      "21               0      0            239865   26.0000          NaN        S  \n",
      "22               0      0            248698   13.0000          D56        S  \n",
      "23               0      0            330923    8.0292          NaN        Q  \n",
      "24               0      0            113788   35.5000           A6        S  \n",
      "25               3      1            349909   21.0750          NaN        S  \n",
      "26               1      5            347077   31.3875          NaN        S  \n",
      "27               0      0              2631    7.2250          NaN        C  \n",
      "28               3      2             19950  263.0000  C23 C25 C27        S  \n",
      "29               0      0            330959    7.8792          NaN        Q  \n",
      "30               0      0            349216    7.8958          NaN        S  \n",
      "...            ...    ...               ...       ...          ...      ...  \n",
      "862              1      0             28134   11.5000          NaN        S  \n",
      "863              0      0             17466   25.9292          D17        S  \n",
      "864              8      2          CA. 2343   69.5500          NaN        S  \n",
      "865              0      0            233866   13.0000          NaN        S  \n",
      "866              0      0            236852   13.0000          NaN        S  \n",
      "867              1      0     SC/PARIS 2149   13.8583          NaN        C  \n",
      "868              0      0          PC 17590   50.4958          A24        S  \n",
      "869              0      0            345777    9.5000          NaN        S  \n",
      "870              1      1            347742   11.1333          NaN        S  \n",
      "871              0      0            349248    7.8958          NaN        S  \n",
      "872              1      1             11751   52.5542          D35        S  \n",
      "873              0      0               695    5.0000  B51 B53 B55        S  \n",
      "874              0      0            345765    9.0000          NaN        S  \n",
      "875              1      0         P/PP 3381   24.0000          NaN        C  \n",
      "876              0      0              2667    7.2250          NaN        C  \n",
      "877              0      0              7534    9.8458          NaN        S  \n",
      "878              0      0            349212    7.8958          NaN        S  \n",
      "879              0      0            349217    7.8958          NaN        S  \n",
      "880              0      1             11767   83.1583          C50        C  \n",
      "881              0      1            230433   26.0000          NaN        S  \n",
      "882              0      0            349257    7.8958          NaN        S  \n",
      "883              0      0              7552   10.5167          NaN        S  \n",
      "884              0      0  C.A./SOTON 34068   10.5000          NaN        S  \n",
      "885              0      0   SOTON/OQ 392076    7.0500          NaN        S  \n",
      "886              0      5            382652   29.1250          NaN        Q  \n",
      "887              0      0            211536   13.0000          NaN        S  \n",
      "888              0      0            112053   30.0000          B42        S  \n",
      "889              1      2        W./C. 6607   23.4500          NaN        S  \n",
      "890              0      0            111369   30.0000         C148        C  \n",
      "891              0      0            370376    7.7500          NaN        Q  \n",
      "\n",
      "[891 rows x 11 columns]>\n"
     ]
    }
   ],
   "source": [
    "print titanic.describe"
   ]
  },
  {
   "cell_type": "code",
   "execution_count": 9,
   "metadata": {
    "collapsed": false,
    "scrolled": false
   },
   "outputs": [
    {
     "name": "stdout",
     "output_type": "stream",
     "text": [
      "Total passangers: 891\n",
      "Survived passangers: 342\n",
      "Survived ratio: 38.4 %\n"
     ]
    },
    {
     "data": {
      "text/plain": [
       "<matplotlib.axes._subplots.AxesSubplot at 0x7f0be6f413d0>"
      ]
     },
     "execution_count": 9,
     "metadata": {},
     "output_type": "execute_result"
    },
    {
     "data": {
      "image/png": "[encoded data removed]",
      "text/plain": [
       "<matplotlib.figure.Figure at 0x7f0be6f49950>"
      ]
     },
     "metadata": {},
     "output_type": "display_data"
    }
   ],
   "source": [
    "%matplotlib inline\n",
    "\n",
    "\n",
    "passangers_num = len(titanic['Survived'])\n",
    "Survived_num = sum(titanic['Survived'])\n",
    "Survived_ratio = round(float(Survived_num)/passangers_num ,3)\n",
    "\n",
    "print 'Total passangers:',passangers_num\n",
    "print 'Survived passangers:', Survived_num\n",
    "print 'Survived ratio:', Survived_ratio*100, '%'\n",
    "\n",
    "Survived_gb= titanic.groupby('Survived')['Survived'].size()\n",
    "Survived_gb.plot(kind='pie', figsize=(6,6), labels=['not successful', 'successful'], autopct='%.2f%%')"
   ]
  },
  {
   "cell_type": "code",
   "execution_count": 10,
   "metadata": {
    "collapsed": false,
    "scrolled": false
   },
   "outputs": [
    {
     "name": "stdout",
     "output_type": "stream",
     "text": [
      "   Survived     Sex  Num\n",
      "0         0  female   81\n",
      "1         0    male  468\n",
      "2         1  female  233\n",
      "3         1    male  109\n",
      "      Sex  Num\n",
      "0  female  314\n",
      "1    male  577\n"
     ]
    }
   ],
   "source": [
    "Surviced_Sex_gb= titanic.groupby(['Survived','Sex']).size()\n",
    "Surviced_Sex_gb2=Surviced_Sex_gb.reset_index()\n",
    "Surviced_Sex_gb2.columns=['Survived', 'Sex', 'Num']\n",
    "print Surviced_Sex_gb2\n",
    "\n",
    "Survived_Sex= titanic.groupby(['Sex']).size()\n",
    "Survived_Sex= Survived_Sex.reset_index()\n",
    "Survived_Sex.columns=[ 'Sex', 'Num']\n",
    "print Survived_Sex\n"
   ]
  },
  {
   "cell_type": "code",
   "execution_count": 11,
   "metadata": {
    "collapsed": false
   },
   "outputs": [
    {
     "data": {
      "text/plain": [
       "<matplotlib.text.Text at 0x7f0be45f94d0>"
      ]
     },
     "execution_count": 11,
     "metadata": {},
     "output_type": "execute_result"
    },
    {
     "data": {
      "image/png": "[encoded data removed]",
      "text/plain": [
       "<matplotlib.figure.Figure at 0x7f0be6f41810>"
      ]
     },
     "metadata": {},
     "output_type": "display_data"
    }
   ],
   "source": [
    "result = pn.merge(Surviced_Sex_gb2, Survived_Sex, on ='Sex', how ='inner')\n",
    "result.columns =['Survived', 'Sex', 'Num', 'Sex_total']\n",
    "result['share']=result['Num']/result['Sex_total']\n",
    "\n",
    "SurvivedBySex= result[result['Survived']==1][['Sex', 'share']] \n",
    "SurvivedBySex.reset_index()\n",
    "SurvivedBySex.index=SurvivedBySex['Sex']\n",
    "del SurvivedBySex['Sex']\n",
    "\n",
    "p=SurvivedBySex.plot.bar(legend=False, title ='Titanic surviving ratio by sex')\n",
    "p.set_ylabel('Survive ratio')\n",
    "\n"
   ]
  },
  {
   "cell_type": "code",
   "execution_count": 50,
   "metadata": {
    "collapsed": false
   },
   "outputs": [
    {
     "data": {
      "text/plain": [
       "<matplotlib.axes._subplots.AxesSubplot at 0x7f0bd7f69cd0>"
      ]
     },
     "execution_count": 50,
     "metadata": {},
     "output_type": "execute_result"
    },
    {
     "data": {
      "image/png": "[encoded data removed]",
      "text/plain": [
       "<matplotlib.figure.Figure at 0x7f0bd7f76690>"
      ]
     },
     "metadata": {},
     "output_type": "display_data"
    }
   ],
   "source": [
    "import pandas as pn\n",
    "import numpy as np\n",
    "titanic = pn.DataFrame.from_csv('titanic_data.csv')\n",
    "\n",
    "SurvivedAge= titanic.groupby(['Survived','Age']).size()\n",
    "SurvivedAge=SurvivedAge.reset_index()\n",
    "SurvivedAge.columns=['Survived', 'Age', 'Num']\n",
    "SurvivedAge.index=(SurvivedAge['Survived'])\n",
    "del SurvivedAge['Survived']\n",
    "\n",
    "SurvivedAget=SurvivedAge.reset_index().pivot( 'Age', 'Survived','Num')\n",
    "SurvivedAget.columns=['No', 'Yes']\n",
    "\n",
    "TestNo=SurvivedAget['No']\n",
    "\n",
    "bins=[0,10,20,30,40,50,60,70,80,100]\n",
    "\n",
    "t=TestNo.groupby(np.digitize(TestNo.index, bins))\n",
    "t2=t.sum()\n",
    "t2.index = bins[0:9]\n",
    "t2.plot(kind='bar', alpha=0.5)\n",
    "\n",
    "TestYes=SurvivedAget['Yes']\n",
    "\n",
    "bins=[0,10,20,30,40,50,60,70,80,100]\n",
    "\n",
    "t=TestYes.groupby(np.digitize(TestYes.index, bins))\n",
    "t2=t.sum()\n",
    "t2.index = bins[0:9]\n",
    "t2.plot(kind='bar', alpha=0.5, color='red')\n",
    "\n",
    "#bins = np.linspace(df.a.min(), df.a.max(), 10)\n",
    "#groups = df.groupby(np.digitize(df.a, bins))\n",
    "\n",
    "#SurvivedAget.plot(kind='hist', bins=10)\n",
    "\n",
    "#SurvivedAget.hist()\n",
    "\n"
   ]
  }
 ],
 "metadata": {
  "kernelspec": {
   "display_name": "Python 2",
   "language": "python",
   "name": "python2"
  },
  "language_info": {
   "codemirror_mode": {
    "name": "ipython",
    "version": 2
   },
   "file_extension": ".py",
   "mimetype": "text/x-python",
   "name": "python",
   "nbconvert_exporter": "python",
   "pygments_lexer": "ipython2",
   "version": "2.7.11"
  }
 },
 "nbformat": 4,
 "nbformat_minor": 0
}
