{
 "cells": [
  {
   "cell_type": "markdown",
   "metadata": {},
   "source": [
    "## Load Data from CSVs"
   ]
  },
  {
   "cell_type": "code",
   "execution_count": 5,
   "metadata": {
    "collapsed": false,
    "scrolled": true
   },
   "outputs": [],
   "source": [
    "#####################################\n",
    "#                 1                 #\n",
    "#####################################\n",
    "\n",
    "## Read in the data from daily_engagement.csv and project_submissions.csv \n",
    "## and store the results in the below variables.\n",
    "## Then look at the first row of each table.\n",
    "\n",
    "import unicodecsv\n",
    "\n",
    "def ReadCSV(f):\n",
    "    with open(f, 'rb') as fi:\n",
    "        reader = unicodecsv.DictReader(fi)\n",
    "        return list(reader)\n",
    "    \n",
    "daily_engagement = ReadCSV('daily_engagement.csv')\n",
    "project_submissions = ReadCSV('project_submissions.csv')\n",
    "enrollments = ReadCSV('enrollments.csv')\n",
    "\n",
    "from datetime import datetime as dt\n",
    "\n",
    "# Takes a date as a string, and returns a Python datetime object. \n",
    "# If there is no date given, returns None\n",
    "def parse_date(date):\n",
    "    date = str(date)\n",
    "    if date == '' or date=='None' or date is None:\n",
    "        return None\n",
    "    else:\n",
    "        #print date\n",
    "        try:\n",
    "            return dt.strptime(date, '%Y-%m-%d %H:%M:%S')\n",
    "        except:\n",
    "            return dt.strptime(date, '%Y-%m-%d')\n",
    "            \n",
    "\n",
    "# Takes a string which is either an empty string or represents an integer,\n",
    "# and returns an int or None.\n",
    "def parse_maybe_int(i):\n",
    "    if i == '' or i=='None' or i is None:\n",
    "        return None\n",
    "    else:\n",
    "        return int(float(i))\n",
    "        \n",
    "\n",
    "#print enrollments[4:5]\n",
    "# Clean up the data types in the enrollments table\n",
    "for enrollment in enrollments:\n",
    "    enrollment['cancel_date'] = parse_date(enrollment['cancel_date'])\n",
    "    enrollment['days_to_cancel'] = parse_maybe_int(enrollment['days_to_cancel'])\n",
    "    enrollment['is_canceled'] = enrollment['is_canceled'] == 'True'\n",
    "    enrollment['is_udacity'] = enrollment['is_udacity'] == 'True'\n",
    "    enrollment['join_date'] = parse_date(enrollment['join_date'])\n",
    "\n",
    "for engagement_record in daily_engagement:\n",
    "    engagement_record['lessons_completed'] = int(float(engagement_record['lessons_completed']))\n",
    "    engagement_record['num_courses_visited'] = int(float(engagement_record['num_courses_visited']))\n",
    "    engagement_record['projects_completed'] = int(float(engagement_record['projects_completed']))\n",
    "    engagement_record['total_minutes_visited'] = float(engagement_record['total_minutes_visited'])\n",
    "    engagement_record['utc_date'] = parse_date(engagement_record['utc_date'])\n",
    "\n",
    "for s in project_submissions:\n",
    "    s['completion_date']=parse_date(s['completion_date'])\n",
    "    s['creation_date']=parse_date(s['creation_date'])\n",
    "\n",
    "#print enrollments[0], '\\n'\n",
    "#print daily_engagement[0], '\\n'\n",
    "#print project_submissions[0], '\\n'"
   ]
  },
  {
   "cell_type": "markdown",
   "metadata": {},
   "source": [
    "## Problems in the Data"
   ]
  },
  {
   "cell_type": "code",
   "execution_count": 6,
   "metadata": {
    "collapsed": false
   },
   "outputs": [
    {
     "name": "stdout",
     "output_type": "stream",
     "text": [
      "{u'lessons_completed': 0, u'num_courses_visited': 1, u'total_minutes_visited': 11.6793745, u'projects_completed': 0, 'account_key': u'0', u'utc_date': datetime.datetime(2015, 1, 9, 0, 0)}\n"
     ]
    }
   ],
   "source": [
    "#####################################\n",
    "#                 3                 #\n",
    "#####################################\n",
    "\n",
    "## Rename the \"acct\" column in the daily_engagement table to \"account_key\".\n",
    "for k in daily_engagement:\n",
    "    k['account_key']=k.pop('acct')\n",
    "\n",
    "print daily_engagement[0]"
   ]
  },
  {
   "cell_type": "markdown",
   "metadata": {},
   "source": [
    "## Investigating the Data"
   ]
  },
  {
   "cell_type": "code",
   "execution_count": 7,
   "metadata": {
    "collapsed": false
   },
   "outputs": [
    {
     "name": "stdout",
     "output_type": "stream",
     "text": [
      "Enrolment: \n",
      "Number of rows: 1640\n",
      "Number of IDs: 1302\n",
      "\n",
      "daily_engagement:\n",
      "Number of rows: 136240\n",
      "Number of IDs: 1237\n",
      "\n",
      "project_submissions:\n",
      "Number of rows: 3642\n",
      "Number of IDs: 743\n",
      "\n"
     ]
    }
   ],
   "source": [
    "#####################################\n",
    "#                 2                 #\n",
    "#####################################\n",
    "\n",
    "## Find the total number of rows and the number of unique students (account keys)\n",
    "## in each table.\n",
    "\n",
    "def Describe(d):\n",
    "    print 'Number of rows:', len(d)\n",
    "    print 'Number of IDs:', len(set([k['account_key'] for k in d]))\n",
    "    return ''\n",
    "    \n",
    "print 'Enrolment: \\n' , Describe(enrollments)\n",
    "print 'daily_engagement:\\n', Describe(daily_engagement)\n",
    "print 'project_submissions:\\n', Describe(project_submissions)\n"
   ]
  },
  {
   "cell_type": "markdown",
   "metadata": {},
   "source": [
    "## Missing Engagement Records"
   ]
  },
  {
   "cell_type": "code",
   "execution_count": 8,
   "metadata": {
    "collapsed": false
   },
   "outputs": [
    {
     "name": "stdout",
     "output_type": "stream",
     "text": [
      "{u'status': u'canceled', u'is_udacity': False, u'is_canceled': True, u'join_date': datetime.datetime(2014, 11, 12, 0, 0), u'account_key': u'1219', u'cancel_date': datetime.datetime(2014, 11, 12, 0, 0), u'days_to_cancel': 0}\n",
      "{u'status': u'canceled', u'is_udacity': False, u'is_canceled': True, u'join_date': datetime.datetime(2014, 11, 13, 0, 0), u'account_key': u'871', u'cancel_date': datetime.datetime(2014, 11, 13, 0, 0), u'days_to_cancel': 0}\n",
      "{u'status': u'canceled', u'is_udacity': False, u'is_canceled': True, u'join_date': datetime.datetime(2014, 11, 15, 0, 0), u'account_key': u'1218', u'cancel_date': datetime.datetime(2014, 11, 15, 0, 0), u'days_to_cancel': 0}\n",
      "{u'status': u'canceled', u'is_udacity': False, u'is_canceled': True, u'join_date': datetime.datetime(2014, 12, 4, 0, 0), u'account_key': u'654', u'cancel_date': datetime.datetime(2014, 12, 4, 0, 0), u'days_to_cancel': 0}\n",
      "{u'status': u'canceled', u'is_udacity': False, u'is_canceled': True, u'join_date': datetime.datetime(2014, 12, 4, 0, 0), u'account_key': u'654', u'cancel_date': datetime.datetime(2014, 12, 4, 0, 0), u'days_to_cancel': 0}\n",
      "{u'status': u'canceled', u'is_udacity': False, u'is_canceled': True, u'join_date': datetime.datetime(2014, 12, 3, 0, 0), u'account_key': u'654', u'cancel_date': datetime.datetime(2014, 12, 3, 0, 0), u'days_to_cancel': 0}\n"
     ]
    }
   ],
   "source": [
    "#####################################\n",
    "#                 4                 #\n",
    "#####################################\n",
    "\n",
    "## Find any one student enrollments where the student is missing from the daily engagement table.\n",
    "## Output that enrollment.\n",
    "\n",
    "n=0\n",
    "l=set([k['account_key'] for k in daily_engagement])\n",
    "\n",
    "for k in enrollments:\n",
    "    if k['account_key'] not in l:\n",
    "        print k\n",
    "        n+=1\n",
    "        if n>5:\n",
    "            break\n"
   ]
  },
  {
   "cell_type": "markdown",
   "metadata": {},
   "source": [
    "## Checking for More Problem Records"
   ]
  },
  {
   "cell_type": "code",
   "execution_count": 9,
   "metadata": {
    "collapsed": false,
    "scrolled": true
   },
   "outputs": [
    {
     "name": "stdout",
     "output_type": "stream",
     "text": [
      "{u'status': u'canceled', u'is_udacity': True, u'is_canceled': True, u'join_date': datetime.datetime(2015, 1, 10, 0, 0), u'account_key': u'1304', u'cancel_date': datetime.datetime(2015, 3, 10, 0, 0), u'days_to_cancel': 59}\n",
      "{u'status': u'canceled', u'is_udacity': True, u'is_canceled': True, u'join_date': datetime.datetime(2015, 3, 10, 0, 0), u'account_key': u'1304', u'cancel_date': datetime.datetime(2015, 6, 17, 0, 0), u'days_to_cancel': 99}\n",
      "{u'status': u'current', u'is_udacity': True, u'is_canceled': False, u'join_date': datetime.datetime(2015, 2, 25, 0, 0), u'account_key': u'1101', u'cancel_date': None, u'days_to_cancel': None}\n",
      "3\n"
     ]
    }
   ],
   "source": [
    "#####################################\n",
    "#                 5                 #\n",
    "#####################################\n",
    "\n",
    "## Find the number of surprising data points (enrollments missing from\n",
    "## the engagement table) that remain, if any.\n",
    "\n",
    "n=0\n",
    "l=set([k['account_key'] for k in daily_engagement])\n",
    "for k in enrollments:\n",
    "    if k['account_key'] not in l and k['join_date']<>k['cancel_date']:\n",
    "        print k\n",
    "        n+=1\n",
    "\n",
    "print n"
   ]
  },
  {
   "cell_type": "code",
   "execution_count": 10,
   "metadata": {
    "collapsed": false,
    "scrolled": true
   },
   "outputs": [
    {
     "name": "stdout",
     "output_type": "stream",
     "text": [
      "TestAccounts: set([u'1304', u'1069', u'448', u'312', u'818', u'1101'])\n",
      "Enrollments. # of records with test accounts: 19\n",
      "Daily_engagement. # of records with test accounts: 585\n",
      "Project_submissions. # of records with test accounts: 9\n"
     ]
    }
   ],
   "source": [
    "# Count Udacity test accounts from all three tables\n",
    "\n",
    "testAccounts = set([k['account_key'] for k in enrollments if k['is_udacity']==True])\n",
    "\n",
    "print 'TestAccounts:', testAccounts\n",
    "\n",
    "def CheckTestAccounts(table):\n",
    "    c=1\n",
    "    for k in table:\n",
    "        if k['account_key'] in testAccounts:\n",
    "            c+=1\n",
    "    return c\n",
    "\n",
    "print 'Enrollments. # of records with test accounts:', CheckTestAccounts(enrollments)\n",
    "print 'Daily_engagement. # of records with test accounts:', CheckTestAccounts(daily_engagement)\n",
    "print 'Project_submissions. # of records with test accounts:', CheckTestAccounts(project_submissions)"
   ]
  },
  {
   "cell_type": "code",
   "execution_count": 11,
   "metadata": {
    "collapsed": false
   },
   "outputs": [
    {
     "name": "stdout",
     "output_type": "stream",
     "text": [
      "set([u'1304', u'1069', u'448', u'312', u'818', u'1101'])\n",
      "\n",
      "Enrolment: \n",
      "Number of rows: 1640\n",
      "Number of IDs: 1302\n",
      "\n",
      "daily_engagement:\n",
      "Number of rows: 136240\n",
      "Number of IDs: 1237\n",
      "\n",
      "project_submissions:\n",
      "Number of rows: 3642\n",
      "Number of IDs: 743\n",
      "\n",
      "\n",
      "enrollments_wta: \n",
      "Number of rows: 1622\n",
      "Number of IDs: 1296\n",
      "\n",
      "daily_engagement_wta:\n",
      "Number of rows: 135656\n",
      "Number of IDs: 1234\n",
      "\n",
      "project_submissions_wta:\n",
      "Number of rows: 3634\n",
      "Number of IDs: 741\n",
      "\n"
     ]
    }
   ],
   "source": [
    "# Delete Udacity test accounts from all three tables\n",
    "print testAccounts \n",
    "\n",
    "def GetRidOfTestAccounts(table):\n",
    "    res=[]\n",
    "    res = [k for k in table if k['account_key'] not in testAccounts]\n",
    "    return res \n",
    "\n",
    "print \n",
    "print 'Enrolment: \\n' , Describe(enrollments)\n",
    "print 'daily_engagement:\\n', Describe(daily_engagement)\n",
    "print 'project_submissions:\\n', Describe(project_submissions)\n",
    "\n",
    "#wta - without test accounts\n",
    "enrollments_wta=GetRidOfTestAccounts(enrollments)\n",
    "daily_engagement_wta=GetRidOfTestAccounts(daily_engagement)\n",
    "project_submissions_wta=GetRidOfTestAccounts(project_submissions)\n",
    "\n",
    "print \n",
    "print 'enrollments_wta: \\n' , Describe(enrollments_wta)\n",
    "print 'daily_engagement_wta:\\n', Describe(daily_engagement_wta)\n",
    "print 'project_submissions_wta:\\n', Describe(project_submissions_wta)\n",
    "\n"
   ]
  },
  {
   "cell_type": "markdown",
   "metadata": {},
   "source": [
    "## Refining the Question"
   ]
  },
  {
   "cell_type": "code",
   "execution_count": 12,
   "metadata": {
    "collapsed": false,
    "scrolled": true
   },
   "outputs": [
    {
     "name": "stdout",
     "output_type": "stream",
     "text": [
      "995\n"
     ]
    }
   ],
   "source": [
    "#####################################\n",
    "#                 6                 #\n",
    "#####################################\n",
    "\n",
    "## Create a dictionary named paid_students containing all students who either\n",
    "## haven't canceled yet or who remained enrolled for more than 7 days. The keys\n",
    "## should be account keys, and the values should be the date the student enrolled.\n",
    "\n",
    "\n",
    "paid_students = {}\n",
    "\n",
    "#print enrollments_wta[0]\n",
    "\n",
    "for k in enrollments_wta:\n",
    "    if not k['is_canceled'] or k['days_to_cancel']>7:\n",
    "        paid_students[k['account_key']]=k['join_date']\n",
    "\n",
    "print len(paid_students)"
   ]
  },
  {
   "cell_type": "code",
   "execution_count": 13,
   "metadata": {
    "collapsed": false
   },
   "outputs": [
    {
     "name": "stdout",
     "output_type": "stream",
     "text": [
      "1293 134549 3618\n"
     ]
    },
    {
     "data": {
      "text/plain": [
       "6920"
      ]
     },
     "execution_count": 13,
     "metadata": {},
     "output_type": "execute_result"
    }
   ],
   "source": [
    "#####################################\n",
    "#                 7                 #\n",
    "#####################################\n",
    "\n",
    "## Create a list of rows from the engagement table including only rows where\n",
    "## the student is one of the paid students you just found, and the date is within\n",
    "## one week of the student's join date.\n",
    "\n",
    "def SelectPaidStudents(t):\n",
    "    table=[]\n",
    "    for k in t:\n",
    "        if k['account_key'] in paid_students.keys():\n",
    "            table.append(k)\n",
    "    return table\n",
    "\n",
    "engagement_ps=SelectPaidStudents(daily_engagement_wta)\n",
    "enrollments_ps=SelectPaidStudents(enrollments_wta)\n",
    "project_submissions_ps=SelectPaidStudents(project_submissions_wta)\n",
    "\n",
    "print len(enrollments_ps),len(engagement_ps) ,len(project_submissions_ps)\n",
    "\n",
    "def within_one_week(join_date, engagement_date):\n",
    "    time_delta = engagement_date - join_date\n",
    "    return time_delta.days < 7 and time_delta.days >=0\n",
    "\n",
    "\n",
    "paid_engagement_in_first_week = []\n",
    "\n",
    "for e in engagement_ps:\n",
    "    account_key = e['account_key']\n",
    "    join_date = paid_students[account_key]\n",
    "    engagement_record_date = e['utc_date']\n",
    "\n",
    "    if within_one_week(join_date, engagement_record_date):\n",
    "        paid_engagement_in_first_week.append(e)\n",
    "\n",
    "len(paid_engagement_in_first_week)\n",
    "\n"
   ]
  },
  {
   "cell_type": "code",
   "execution_count": 14,
   "metadata": {
    "collapsed": false,
    "scrolled": true
   },
   "outputs": [
    {
     "name": "stdout",
     "output_type": "stream",
     "text": [
      "Mean: 305.414718908\n",
      "Standard deviation: 405.91261032\n",
      "Minimum: 0.0\n",
      "Maximum: 3564.7332645\n"
     ]
    }
   ],
   "source": [
    "from collections import defaultdict\n",
    "\n",
    "# Create a dictionary of engagement grouped by student.\n",
    "# The keys are account keys, and the values are lists of engagement records.\n",
    "engagement_by_account = defaultdict(list)\n",
    "for engagement_record in paid_engagement_in_first_week:\n",
    "    account_key = engagement_record['account_key']\n",
    "    engagement_by_account[account_key].append(engagement_record)\n",
    "    \n",
    "# Create a dictionary with the total minutes each student spent in the classroom during the first week.\n",
    "# The keys are account keys, and the values are numbers (total minutes)\n",
    "total_minutes_by_account = {}\n",
    "for account_key, engagement_for_student in engagement_by_account.items():\n",
    "    total_minutes = 0\n",
    "    for engagement_record in engagement_for_student:\n",
    "        total_minutes += engagement_record['total_minutes_visited']\n",
    "    total_minutes_by_account[account_key] = total_minutes\n",
    "    \n",
    "import numpy as np\n",
    "\n",
    "# Summarize the data about minutes spent in the classroom\n",
    "total_minutes = total_minutes_by_account.values()\n",
    "print 'Mean:', np.mean(total_minutes)\n",
    "print 'Standard deviation:', np.std(total_minutes)\n",
    "print 'Minimum:', np.min(total_minutes)\n",
    "print 'Maximum:', np.max(total_minutes)\n",
    "\n"
   ]
  },
  {
   "cell_type": "markdown",
   "metadata": {},
   "source": [
    "## Lessons Completed in First Week"
   ]
  },
  {
   "cell_type": "code",
   "execution_count": 15,
   "metadata": {
    "collapsed": false
   },
   "outputs": [
    {
     "name": "stdout",
     "output_type": "stream",
     "text": [
      "{u'lessons_completed': 0, u'num_courses_visited': 1, u'total_minutes_visited': 11.6793745, u'projects_completed': 0, 'account_key': u'0', u'utc_date': datetime.datetime(2015, 1, 9, 0, 0)}\n",
      "Mean: 1.63216080402\n",
      "Standard deviation: 3.00140182563\n",
      "Minimum: 0\n",
      "Maximum: 36\n"
     ]
    }
   ],
   "source": [
    "#####################################\n",
    "#                 9                 #\n",
    "#####################################\n",
    "\n",
    "## Adapt the code above to find the mean, standard deviation, minimum, and maximum for\n",
    "## the number of lessons completed by each student during the first week. Try creating\n",
    "## one or more functions to re-use the code above.\n",
    "\n",
    "print paid_engagement_in_first_week[0]\n",
    "\n",
    "from collections import defaultdict\n",
    "\n",
    "# Create a dictionary of engagement grouped by student.\n",
    "# The keys are account keys, and the values are lists of engagement records.\n",
    "engagement_by_account = defaultdict(list)\n",
    "for engagement_record in paid_engagement_in_first_week:\n",
    "    account_key = engagement_record['account_key']\n",
    "    engagement_by_account[account_key].append(engagement_record)\n",
    "    \n",
    "# Create a dictionary with the total minutes each student spent in the classroom during the first week.\n",
    "# The keys are account keys, and the values are numbers (total minutes)\n",
    "total_courses_d = {}\n",
    "for account_key, engagement_for_student in engagement_by_account.items():\n",
    "    total_courses = 0\n",
    "    for engagement_record in engagement_for_student:\n",
    "        total_courses += engagement_record['lessons_completed']\n",
    "    total_courses_d[account_key] = total_courses\n",
    "    \n",
    "import numpy as np\n",
    "\n",
    "# Summarize the data about minutes spent in the classroom\n",
    "total= total_courses_d.values()\n",
    "print 'Mean:', np.mean(total)\n",
    "print 'Standard deviation:', np.std(total)\n",
    "print 'Minimum:', np.min(total)\n",
    "print 'Maximum:', np.max(total)\n",
    "\n"
   ]
  },
  {
   "cell_type": "code",
   "execution_count": 16,
   "metadata": {
    "collapsed": false
   },
   "outputs": [
    {
     "name": "stdout",
     "output_type": "stream",
     "text": [
      "Mean: 2.91256281407\n",
      "Standard deviation: 2.22037005491\n",
      "Minimum: 0\n",
      "Maximum: 7\n"
     ]
    }
   ],
   "source": [
    "######################################\n",
    "#                 10                 #\n",
    "######################################\n",
    "\n",
    "## Find the mean, standard deviation, minimum, and maximum for the number of\n",
    "## days each student visits the classroom during the first week.\n",
    "\n",
    "#print paid_engagement_in_first_week[0:3]\n",
    "\n",
    "from collections import defaultdict\n",
    "\n",
    "# Create a dictionary of engagement grouped by student.\n",
    "# The keys are account keys, and the values are lists of engagement records.\n",
    "engagement_by_account = defaultdict(list)\n",
    "for engagement_record in paid_engagement_in_first_week:\n",
    "    account_key = engagement_record['account_key']\n",
    "    if engagement_record['num_courses_visited']>0:\n",
    "        engagement_record['day_active']=1\n",
    "    else:\n",
    "        engagement_record['day_active']=0\n",
    "    engagement_by_account[account_key].append(engagement_record)\n",
    "\n",
    "# Create a dictionary with the total minutes each student spent in the classroom during the first week.\n",
    "# The keys are account keys, and the values are numbers (total minutes)\n",
    "total_list = {}\n",
    "for account_key, engagement_for_student in engagement_by_account.items():\n",
    "    total = 0\n",
    "    for engagement_record in engagement_for_student:\n",
    "        total += engagement_record['day_active']\n",
    "    total_list[account_key] = total\n",
    "    \n",
    "import numpy as np\n",
    "\n",
    "# Summarize the data about minutes spent in the classroom\n",
    "#print total_list\n",
    "\n",
    "total= total_list.values()\n",
    "print 'Mean:', np.mean(total)\n",
    "print 'Standard deviation:', np.std(total)\n",
    "print 'Minimum:', np.min(total)\n",
    "print 'Maximum:', np.max(total)\n",
    "\n"
   ]
  },
  {
   "cell_type": "markdown",
   "metadata": {},
   "source": [
    "## Splitting out Passing Students"
   ]
  },
  {
   "cell_type": "code",
   "execution_count": 17,
   "metadata": {
    "collapsed": false
   },
   "outputs": [
    {
     "name": "stdout",
     "output_type": "stream",
     "text": [
      "passing_engagement = 4528\n",
      "non_passing_engagement = 2392\n"
     ]
    }
   ],
   "source": [
    "######################################\n",
    "#                 11                 #\n",
    "######################################\n",
    "\n",
    "## Create two lists of engagement data for paid students in the first week.\n",
    "## The first list should contain data for students who eventually pass the\n",
    "## subway project, and the second list should contain data for students\n",
    "## who do not.\n",
    "\n",
    "subway_project_lesson_keys = ['746169184', '3176718735']\n",
    "\n",
    "successful = set([x['account_key'] for x in project_submissions_wta if x['assigned_rating'] in ('PASSED','DISTINCTION' ) and x['lesson_key'] in subway_project_lesson_keys])\n",
    "\n",
    "paid_engagement_in_first_week[0:1]\n",
    "\n",
    "studentList = [x['account_key']for x in  paid_engagement_in_first_week]\n",
    "\n",
    "passing_engagement=0\n",
    "non_passing_engagement=0\n",
    "\n",
    "for x in studentList:\n",
    "    if x in successful:\n",
    "        passing_engagement+=1\n",
    "    else:\n",
    "        non_passing_engagement+=1\n",
    "\n",
    "print 'passing_engagement =', passing_engagement\n",
    "print 'non_passing_engagement =', non_passing_engagement"
   ]
  },
  {
   "cell_type": "code",
   "execution_count": 18,
   "metadata": {
    "collapsed": false,
    "scrolled": true
   },
   "outputs": [
    {
     "data": {
      "text/plain": [
       "(array([ 3.,  0.,  0.,  2.,  0.,  0.,  2.,  0.,  0.,  1.]),\n",
       " array([ 1. ,  1.3,  1.6,  1.9,  2.2,  2.5,  2.8,  3.1,  3.4,  3.7,  4. ]),\n",
       " <a list of 10 Patch objects>)"
      ]
     },
     "execution_count": 18,
     "metadata": {},
     "output_type": "execute_result"
    }
   ],
   "source": [
    "######################################\n",
    "#                 13                 #\n",
    "######################################\n",
    "\n",
    "## Make histograms of the three metrics we looked at earlier for both\n",
    "## students who passed the subway project and students who didn't. You\n",
    "## might also want to make histograms of any other metrics you examined.\n",
    "\n",
    "data = [1, 2, 1, 3, 3, 1, 4, 2]\n",
    "\n",
    "import matplotlib.pyplot as plt\n",
    "plt.hist(data)"
   ]
  },
  {
   "cell_type": "code",
   "execution_count": 30,
   "metadata": {
    "collapsed": false
   },
   "outputs": [
    {
     "name": "stdout",
     "output_type": "stream",
     "text": [
      "Populating the interactive namespace from numpy and matplotlib\n"
     ]
    },
    {
     "data": {
      "text/plain": [
       "<matplotlib.text.Text at 0x7f93679e0190>"
      ]
     },
     "execution_count": 30,
     "metadata": {},
     "output_type": "execute_result"
    },
    {
     "data": {
      "image/png": "[encoded data removed]",
      "text/plain": [
       "<matplotlib.figure.Figure at 0x7f9367f1cd50>"
      ]
     },
     "metadata": {},
     "output_type": "display_data"
    }
   ],
   "source": [
    "#number of days worked\n",
    "import seaborn as sns\n",
    "import matplotlib.pyplot as plt\n",
    "\n",
    "%pylab inline\n",
    "plt.hist(total_list.values(), bins=8)\n",
    "\n",
    "plt.xlabel(\"Number of visits a week\")\n",
    "plt.ylabel('Nuber of cases')\n",
    "plt.title('How often students were visiting webpage during 1st week?')\n"
   ]
  }
 ],
 "metadata": {
  "kernelspec": {
   "display_name": "Python 2",
   "language": "python",
   "name": "python2"
  },
  "language_info": {
   "codemirror_mode": {
    "name": "ipython",
    "version": 2
   },
   "file_extension": ".py",
   "mimetype": "text/x-python",
   "name": "python",
   "nbconvert_exporter": "python",
   "pygments_lexer": "ipython2",
   "version": "2.7.11"
  }
 },
 "nbformat": 4,
 "nbformat_minor": 0
}
